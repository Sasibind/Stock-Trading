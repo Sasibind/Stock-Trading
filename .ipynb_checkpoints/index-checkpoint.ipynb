{
 "cells": [
  {
   "cell_type": "code",
   "execution_count": null,
   "metadata": {},
   "outputs": [],
   "source": [
    "import psycopg2\n",
    "import os\n",
    "import pandas as pd\n",
    "from sqlalchemy import create_engine\n",
    "import matplotlib.pyplot as plt"
   ]
  },
  {
   "cell_type": "code",
   "execution_count": null,
   "metadata": {},
   "outputs": [],
   "source": [
    "db_params = {\n",
    "   'host': '127.0.0.1',\n",
    "   \"port\" : '5432',\n",
    "   'database': 'postgres',\n",
    "   'user': 'postgres',\n",
    "   'password': 'password'\n",
    "}"
   ]
  },
  {
   "cell_type": "code",
   "execution_count": null,
   "metadata": {},
   "outputs": [],
   "source": [
    "# establishing the connection\n",
    "conn = psycopg2.connect(\n",
    "   database=db_params['database'],\n",
    "   user=db_params['user'],\n",
    "   password=db_params['password'],\n",
    "   host=db_params['host'],\n",
    "   port=db_params['port']\n",
    ")\n",
    "conn.autocommit = True\n",
    "\n",
    "# creating a cursor object using the cursor() method\n",
    "cursor = conn.cursor()"
   ]
  },
  {
   "cell_type": "code",
   "execution_count": null,
   "metadata": {},
   "outputs": [],
   "source": [
    "# deleting old data and creating a new database\n",
    "sql = '''DROP database IF EXISTS stock_data;'''\n",
    "cursor.execute(sql)\n",
    "sql = '''CREATE database stock_data;'''\n",
    "cursor.execute(sql)\n",
    "# print(\"new database created\")"
   ]
  },
  {
   "cell_type": "code",
   "execution_count": null,
   "metadata": {},
   "outputs": [],
   "source": [
    "# connecting to the newly database\n",
    "db_params['database'] = 'stock_data'\n",
    "engine = create_engine(f'postgresql://{db_params[\"user\"]}:{db_params[\"password\"]}@{db_params[\"host\"]}/{db_params[\"database\"]}')"
   ]
  },
  {
   "cell_type": "code",
   "execution_count": null,
   "metadata": {},
   "outputs": [],
   "source": [
    "# defining the file paths for the data files\n",
    "dirpath = os.path.join(os.getcwd(), 'data')\n",
    "file_list = os.listdir(dirpath)\n",
    "\n",
    "file_loc = {}\n",
    "\n",
    "# mapping table names to filepaths\n",
    "for file in file_list:\n",
    "   filepath = os.path.join(dirpath, file)\n",
    "   name = file[:-4].lower()\n",
    "   name = ''.join(e for e in name if e.isalnum())\n",
    "   file_loc[name] = filepath\n",
    "\n",
    "# # printing some data from the tables to verify\n",
    "# for filename, filepath in file_loc.items():\n",
    "#    print(f\"Contents of '{filename}' CSV file:\")\n",
    "#    df = pd.read_csv(filepath)\n",
    "#    print(df.head(2))\n",
    "#    print(\"\\n\")"
   ]
  },
  {
   "cell_type": "code",
   "execution_count": null,
   "metadata": {},
   "outputs": [],
   "source": [
    "# adding the data to the database\n",
    "for filename, filepath in file_loc.items():\n",
    "   df = pd.read_csv(filepath)\n",
    "   df.columns = map(str.lower, df.columns)\n",
    "   df.to_sql(filename, engine, if_exists='replace', index=False)"
   ]
  },
  {
   "cell_type": "code",
   "execution_count": null,
   "metadata": {},
   "outputs": [],
   "source": [
    "# Connect to the PostgreSQL database\n",
    "conn = psycopg2.connect(**db_params)"
   ]
  },
  {
   "cell_type": "code",
   "execution_count": null,
   "metadata": {},
   "outputs": [],
   "source": [
    "# SQL query to fetch trading data from the table\n",
    "query = \"SELECT date, close FROM aapl ORDER BY date;\"\n",
    "\n",
    "# Read data into a Pandas DataFrame\n",
    "df = pd.read_sql(query, conn, index_col=\"date\", parse_dates=True)"
   ]
  },
  {
   "cell_type": "code",
   "execution_count": null,
   "metadata": {},
   "outputs": [],
   "source": [
    "# Calculate the required moving averages\n",
    "df[\"50_day_sma\"] = df[\"close\"].rolling(window=50).mean()\n",
    "df[\"500_day_sma\"] = df[\"close\"].rolling(window=500).mean()\n",
    "df[\"20_day_sma\"] = df[\"close\"].rolling(window=20).mean()\n",
    "df[\"200_day_sma\"] = df[\"close\"].rolling(window=200).mean()\n",
    "df[\"10_day_sma\"] = df[\"close\"].rolling(window=10).mean()\n",
    "df[\"5_day_sma\"] = df[\"close\"].rolling(window=5).mean()"
   ]
  },
  {
   "cell_type": "code",
   "execution_count": null,
   "metadata": {},
   "outputs": [],
   "source": [
    "# Generate buy and sell signals based on crossovers\n",
    "df[\"buy_signal\"] = (df[\"50_day_sma\"] > df[\"500_day_sma\"]) & (df[\"50_day_sma\"].shift(1) <= df[\"500_day_sma\"].shift(1))\n",
    "df[\"sell_signal\"] = (df[\"20_day_sma\"] > df[\"200_day_sma\"]) & (df[\"20_day_sma\"].shift(1) <= df[\"200_day_sma\"].shift(1))"
   ]
  },
  {
   "cell_type": "code",
   "execution_count": null,
   "metadata": {},
   "outputs": [],
   "source": [
    "# Close buy positions\n",
    "df[\"close_buy_positions\"] = (df[\"10_day_sma\"] > df[\"20_day_sma\"]) & (df[\"10_day_sma\"].shift(1) <= df[\"20_day_sma\"].shift(1))\n",
    "\n",
    "# Close sell positions\n",
    "df[\"close_sell_positions\"] = (df[\"5_day_sma\"] > df[\"10_day_sma\"]) & (df[\"5_day_sma\"].shift(1) <= df[\"10_day_sma\"].shift(1))"
   ]
  },
  {
   "cell_type": "code",
   "execution_count": null,
   "metadata": {},
   "outputs": [],
   "source": [
    "# Plot the data with signals\n",
    "plt.figure(figsize=(10, 6))\n",
    "plt.plot(df.index, df[\"close\"], label=\"Close Price\")\n",
    "plt.plot(df.index, df[\"50_day_sma\"], label=\"50-day SMA\")\n",
    "plt.plot(df.index, df[\"500_day_sma\"], label=\"500-day SMA\")\n",
    "plt.scatter(df[df[\"buy_signal\"]].index, df[df[\"buy_signal\"]][\"close\"], marker=\"^\", color=\"g\", label=\"Buy Signal\")\n",
    "plt.scatter(df[df[\"sell_signal\"]].index, df[df[\"sell_signal\"]][\"close\"], marker=\"v\", color=\"r\", label=\"Sell Signal\")\n",
    "plt.scatter(df[df[\"close_buy_positions\"]].index, df[df[\"close_buy_positions\"]][\"close\"], marker=\"o\", color=\"b\", label=\"Close Buy Position\")\n",
    "plt.scatter(df[df[\"close_sell_positions\"]].index, df[df[\"close_sell_positions\"]][\"close\"], marker=\"o\", color=\"orange\", label=\"Close Sell Position\")\n",
    "\n",
    "plt.title(\"Trading Data with Buy/Sell Signals\")\n",
    "plt.xlabel(\"Date\")\n",
    "plt.ylabel(\"Price\")\n",
    "plt.legend()\n",
    "plt.show()"
   ]
  },
  {
   "cell_type": "code",
   "execution_count": null,
   "metadata": {},
   "outputs": [],
   "source": [
    "# Close the database connection\n",
    "conn.close()"
   ]
  }
 ],
 "metadata": {
  "language_info": {
   "name": "python"
  }
 },
 "nbformat": 4,
 "nbformat_minor": 2
}
